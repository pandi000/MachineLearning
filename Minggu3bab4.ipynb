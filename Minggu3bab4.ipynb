{
  "nbformat": 4,
  "nbformat_minor": 0,
  "metadata": {
    "colab": {
      "provenance": [],
      "authorship_tag": "ABX9TyNNfXdo8LtCR9Go0GCc7Dtn",
      "include_colab_link": true
    },
    "kernelspec": {
      "name": "python3",
      "display_name": "Python 3"
    },
    "language_info": {
      "name": "python"
    }
  },
  "cells": [
    {
      "cell_type": "markdown",
      "metadata": {
        "id": "view-in-github",
        "colab_type": "text"
      },
      "source": [
        "<a href=\"https://colab.research.google.com/github/pandi000/MachineLearning/blob/main/Minggu3bab4.ipynb\" target=\"_parent\"><img src=\"https://colab.research.google.com/assets/colab-badge.svg\" alt=\"Open In Colab\"/></a>"
      ]
    },
    {
      "cell_type": "code",
      "execution_count": 3,
      "metadata": {
        "id": "rEMETbz6Em34"
      },
      "outputs": [],
      "source": [
        "from pandas import DataFrame\n",
        "import pandas as pd\n",
        "import numpy as np"
      ]
    },
    {
      "cell_type": "markdown",
      "source": [
        "perintah dibawah digunakan untuk membaca file dengan format csv yang sudah disiapkan"
      ],
      "metadata": {
        "id": "aihlckPV73Cg"
      }
    },
    {
      "cell_type": "code",
      "source": [
        "df = pd.read_csv(\"apartemen_ok.csv\")\n",
        "print(df)\n",
        "df.info()"
      ],
      "metadata": {
        "colab": {
          "base_uri": "https://localhost:8080/"
        },
        "id": "bNM2R_AVE6Bu",
        "outputId": "1f7580e5-3375-48d4-e863-d3b9f13b4354"
      },
      "execution_count": 5,
      "outputs": [
        {
          "output_type": "stream",
          "name": "stdout",
          "text": [
            "   Unnamed: 0  KodeApt   Wilayah St_Milik  Jum_Kamar\n",
            "0           0    104.0    Bantul        Y        3.0\n",
            "1           1    197.0    Sleman        N        3.0\n",
            "2           2   8837.0    Sleman        N        3.0\n",
            "3           3    201.0     Yogya        N        1.0\n",
            "4           4    203.0     Yogya        Y        3.0\n",
            "5           5    207.0     Yogya        Y        3.0\n",
            "6           6    837.0  KL-Progo        Y        2.0\n",
            "7           7    213.0    Bantul        Y        3.0\n",
            "8           8    215.0    Bantul        Y        3.0\n",
            "<class 'pandas.core.frame.DataFrame'>\n",
            "RangeIndex: 9 entries, 0 to 8\n",
            "Data columns (total 5 columns):\n",
            " #   Column      Non-Null Count  Dtype  \n",
            "---  ------      --------------  -----  \n",
            " 0   Unnamed: 0  9 non-null      int64  \n",
            " 1   KodeApt     9 non-null      float64\n",
            " 2   Wilayah     9 non-null      object \n",
            " 3   St_Milik    9 non-null      object \n",
            " 4   Jum_Kamar   9 non-null      float64\n",
            "dtypes: float64(2), int64(1), object(2)\n",
            "memory usage: 488.0+ bytes\n"
          ]
        }
      ]
    },
    {
      "cell_type": "code",
      "source": [
        "# Membuat list yang akan ditambahkan menjadi kolom tambahan\n",
        "label_kelas = ['Murah', 'Murah', 'Mahal', 'Murah', 'Mahal', 'Mahal', 'Mahal', 'Murah', 'Murah']\n",
        "\n",
        "# Memberi nama kolom tambahan 'Label'\n",
        "df['Label'] = label_kelas\n",
        "df"
      ],
      "metadata": {
        "colab": {
          "base_uri": "https://localhost:8080/",
          "height": 331
        },
        "id": "Y-YpE4YpOHTP",
        "outputId": "868c4023-2946-4bcd-9b5e-4f24e29dcd8b"
      },
      "execution_count": 6,
      "outputs": [
        {
          "output_type": "execute_result",
          "data": {
            "text/plain": [
              "   Unnamed: 0  KodeApt   Wilayah St_Milik  Jum_Kamar  Label\n",
              "0           0    104.0    Bantul        Y        3.0  Murah\n",
              "1           1    197.0    Sleman        N        3.0  Murah\n",
              "2           2   8837.0    Sleman        N        3.0  Mahal\n",
              "3           3    201.0     Yogya        N        1.0  Murah\n",
              "4           4    203.0     Yogya        Y        3.0  Mahal\n",
              "5           5    207.0     Yogya        Y        3.0  Mahal\n",
              "6           6    837.0  KL-Progo        Y        2.0  Mahal\n",
              "7           7    213.0    Bantul        Y        3.0  Murah\n",
              "8           8    215.0    Bantul        Y        3.0  Murah"
            ],
            "text/html": [
              "\n",
              "  <div id=\"df-24ac782d-e5b0-4dab-bc20-3cd3f7fea159\">\n",
              "    <div class=\"colab-df-container\">\n",
              "      <div>\n",
              "<style scoped>\n",
              "    .dataframe tbody tr th:only-of-type {\n",
              "        vertical-align: middle;\n",
              "    }\n",
              "\n",
              "    .dataframe tbody tr th {\n",
              "        vertical-align: top;\n",
              "    }\n",
              "\n",
              "    .dataframe thead th {\n",
              "        text-align: right;\n",
              "    }\n",
              "</style>\n",
              "<table border=\"1\" class=\"dataframe\">\n",
              "  <thead>\n",
              "    <tr style=\"text-align: right;\">\n",
              "      <th></th>\n",
              "      <th>Unnamed: 0</th>\n",
              "      <th>KodeApt</th>\n",
              "      <th>Wilayah</th>\n",
              "      <th>St_Milik</th>\n",
              "      <th>Jum_Kamar</th>\n",
              "      <th>Label</th>\n",
              "    </tr>\n",
              "  </thead>\n",
              "  <tbody>\n",
              "    <tr>\n",
              "      <th>0</th>\n",
              "      <td>0</td>\n",
              "      <td>104.0</td>\n",
              "      <td>Bantul</td>\n",
              "      <td>Y</td>\n",
              "      <td>3.0</td>\n",
              "      <td>Murah</td>\n",
              "    </tr>\n",
              "    <tr>\n",
              "      <th>1</th>\n",
              "      <td>1</td>\n",
              "      <td>197.0</td>\n",
              "      <td>Sleman</td>\n",
              "      <td>N</td>\n",
              "      <td>3.0</td>\n",
              "      <td>Murah</td>\n",
              "    </tr>\n",
              "    <tr>\n",
              "      <th>2</th>\n",
              "      <td>2</td>\n",
              "      <td>8837.0</td>\n",
              "      <td>Sleman</td>\n",
              "      <td>N</td>\n",
              "      <td>3.0</td>\n",
              "      <td>Mahal</td>\n",
              "    </tr>\n",
              "    <tr>\n",
              "      <th>3</th>\n",
              "      <td>3</td>\n",
              "      <td>201.0</td>\n",
              "      <td>Yogya</td>\n",
              "      <td>N</td>\n",
              "      <td>1.0</td>\n",
              "      <td>Murah</td>\n",
              "    </tr>\n",
              "    <tr>\n",
              "      <th>4</th>\n",
              "      <td>4</td>\n",
              "      <td>203.0</td>\n",
              "      <td>Yogya</td>\n",
              "      <td>Y</td>\n",
              "      <td>3.0</td>\n",
              "      <td>Mahal</td>\n",
              "    </tr>\n",
              "    <tr>\n",
              "      <th>5</th>\n",
              "      <td>5</td>\n",
              "      <td>207.0</td>\n",
              "      <td>Yogya</td>\n",
              "      <td>Y</td>\n",
              "      <td>3.0</td>\n",
              "      <td>Mahal</td>\n",
              "    </tr>\n",
              "    <tr>\n",
              "      <th>6</th>\n",
              "      <td>6</td>\n",
              "      <td>837.0</td>\n",
              "      <td>KL-Progo</td>\n",
              "      <td>Y</td>\n",
              "      <td>2.0</td>\n",
              "      <td>Mahal</td>\n",
              "    </tr>\n",
              "    <tr>\n",
              "      <th>7</th>\n",
              "      <td>7</td>\n",
              "      <td>213.0</td>\n",
              "      <td>Bantul</td>\n",
              "      <td>Y</td>\n",
              "      <td>3.0</td>\n",
              "      <td>Murah</td>\n",
              "    </tr>\n",
              "    <tr>\n",
              "      <th>8</th>\n",
              "      <td>8</td>\n",
              "      <td>215.0</td>\n",
              "      <td>Bantul</td>\n",
              "      <td>Y</td>\n",
              "      <td>3.0</td>\n",
              "      <td>Murah</td>\n",
              "    </tr>\n",
              "  </tbody>\n",
              "</table>\n",
              "</div>\n",
              "      <button class=\"colab-df-convert\" onclick=\"convertToInteractive('df-24ac782d-e5b0-4dab-bc20-3cd3f7fea159')\"\n",
              "              title=\"Convert this dataframe to an interactive table.\"\n",
              "              style=\"display:none;\">\n",
              "        \n",
              "  <svg xmlns=\"http://www.w3.org/2000/svg\" height=\"24px\"viewBox=\"0 0 24 24\"\n",
              "       width=\"24px\">\n",
              "    <path d=\"M0 0h24v24H0V0z\" fill=\"none\"/>\n",
              "    <path d=\"M18.56 5.44l.94 2.06.94-2.06 2.06-.94-2.06-.94-.94-2.06-.94 2.06-2.06.94zm-11 1L8.5 8.5l.94-2.06 2.06-.94-2.06-.94L8.5 2.5l-.94 2.06-2.06.94zm10 10l.94 2.06.94-2.06 2.06-.94-2.06-.94-.94-2.06-.94 2.06-2.06.94z\"/><path d=\"M17.41 7.96l-1.37-1.37c-.4-.4-.92-.59-1.43-.59-.52 0-1.04.2-1.43.59L10.3 9.45l-7.72 7.72c-.78.78-.78 2.05 0 2.83L4 21.41c.39.39.9.59 1.41.59.51 0 1.02-.2 1.41-.59l7.78-7.78 2.81-2.81c.8-.78.8-2.07 0-2.86zM5.41 20L4 18.59l7.72-7.72 1.47 1.35L5.41 20z\"/>\n",
              "  </svg>\n",
              "      </button>\n",
              "      \n",
              "  <style>\n",
              "    .colab-df-container {\n",
              "      display:flex;\n",
              "      flex-wrap:wrap;\n",
              "      gap: 12px;\n",
              "    }\n",
              "\n",
              "    .colab-df-convert {\n",
              "      background-color: #E8F0FE;\n",
              "      border: none;\n",
              "      border-radius: 50%;\n",
              "      cursor: pointer;\n",
              "      display: none;\n",
              "      fill: #1967D2;\n",
              "      height: 32px;\n",
              "      padding: 0 0 0 0;\n",
              "      width: 32px;\n",
              "    }\n",
              "\n",
              "    .colab-df-convert:hover {\n",
              "      background-color: #E2EBFA;\n",
              "      box-shadow: 0px 1px 2px rgba(60, 64, 67, 0.3), 0px 1px 3px 1px rgba(60, 64, 67, 0.15);\n",
              "      fill: #174EA6;\n",
              "    }\n",
              "\n",
              "    [theme=dark] .colab-df-convert {\n",
              "      background-color: #3B4455;\n",
              "      fill: #D2E3FC;\n",
              "    }\n",
              "\n",
              "    [theme=dark] .colab-df-convert:hover {\n",
              "      background-color: #434B5C;\n",
              "      box-shadow: 0px 1px 3px 1px rgba(0, 0, 0, 0.15);\n",
              "      filter: drop-shadow(0px 1px 2px rgba(0, 0, 0, 0.3));\n",
              "      fill: #FFFFFF;\n",
              "    }\n",
              "  </style>\n",
              "\n",
              "      <script>\n",
              "        const buttonEl =\n",
              "          document.querySelector('#df-24ac782d-e5b0-4dab-bc20-3cd3f7fea159 button.colab-df-convert');\n",
              "        buttonEl.style.display =\n",
              "          google.colab.kernel.accessAllowed ? 'block' : 'none';\n",
              "\n",
              "        async function convertToInteractive(key) {\n",
              "          const element = document.querySelector('#df-24ac782d-e5b0-4dab-bc20-3cd3f7fea159');\n",
              "          const dataTable =\n",
              "            await google.colab.kernel.invokeFunction('convertToInteractive',\n",
              "                                                     [key], {});\n",
              "          if (!dataTable) return;\n",
              "\n",
              "          const docLinkHtml = 'Like what you see? Visit the ' +\n",
              "            '<a target=\"_blank\" href=https://colab.research.google.com/notebooks/data_table.ipynb>data table notebook</a>'\n",
              "            + ' to learn more about interactive tables.';\n",
              "          element.innerHTML = '';\n",
              "          dataTable['output_type'] = 'display_data';\n",
              "          await google.colab.output.renderOutput(dataTable, element);\n",
              "          const docLink = document.createElement('div');\n",
              "          docLink.innerHTML = docLinkHtml;\n",
              "          element.appendChild(docLink);\n",
              "        }\n",
              "      </script>\n",
              "    </div>\n",
              "  </div>\n",
              "  "
            ]
          },
          "metadata": {},
          "execution_count": 6
        }
      ]
    },
    {
      "cell_type": "markdown",
      "source": [
        "perintah dibawah digunakan untuk menampilkan statistik deskriptif, hanya yang numerik. maksudnya data yang ditampilkan hanya berbentuk numerik atau angka"
      ],
      "metadata": {
        "id": "PG7DzLvl64Ey"
      }
    },
    {
      "cell_type": "code",
      "source": [
        "print(df.describe())"
      ],
      "metadata": {
        "colab": {
          "base_uri": "https://localhost:8080/"
        },
        "id": "nY_-G2QgPjQC",
        "outputId": "dfdd7948-912c-4799-883b-f8cbd54206b4"
      },
      "execution_count": 7,
      "outputs": [
        {
          "output_type": "stream",
          "name": "stdout",
          "text": [
            "       Unnamed: 0      KodeApt  Jum_Kamar\n",
            "count    9.000000     9.000000   9.000000\n",
            "mean     4.000000  1223.777778   2.666667\n",
            "std      2.738613  2863.130445   0.707107\n",
            "min      0.000000   104.000000   1.000000\n",
            "25%      2.000000   201.000000   3.000000\n",
            "50%      4.000000   207.000000   3.000000\n",
            "75%      6.000000   215.000000   3.000000\n",
            "max      8.000000  8837.000000   3.000000\n"
          ]
        }
      ]
    },
    {
      "cell_type": "markdown",
      "source": [
        "untuk mengeksplore Lebih dalam lagi untuk atribut Wilayah (Tipe Kategori) bisa menggunakan perintah dibawah ini. bisa dilihat kalau didalam atribut Wilayah berisi Bantul dengan 3 data, Yogya 3 data, Sleman 2 data dan kulon progo 1 data."
      ],
      "metadata": {
        "id": "unUCNTym7Tdv"
      }
    },
    {
      "cell_type": "code",
      "source": [
        "df.Wilayah.unique()\n",
        "valueCount = df.Wilayah.value_counts()\n",
        "valueCount"
      ],
      "metadata": {
        "colab": {
          "base_uri": "https://localhost:8080/"
        },
        "id": "h9XwA7w9Pooy",
        "outputId": "57c1134d-685b-4e1d-f1d5-768e40475bcd"
      },
      "execution_count": 10,
      "outputs": [
        {
          "output_type": "execute_result",
          "data": {
            "text/plain": [
              "Bantul      3\n",
              "Yogya       3\n",
              "Sleman      2\n",
              "KL-Progo    1\n",
              "Name: Wilayah, dtype: int64"
            ]
          },
          "metadata": {},
          "execution_count": 10
        }
      ]
    },
    {
      "cell_type": "markdown",
      "source": [
        "untuk melakukan visualisasi dalam diagram batang kolom wilayah bisa menggunakan perintah dibawah ini"
      ],
      "metadata": {
        "id": "xCh7ns648-PI"
      }
    },
    {
      "cell_type": "code",
      "source": [
        "from pandas.io.formats import style\n",
        "import seaborn as sns\n",
        "sns.set(style=\"darkgrid\")\n",
        "ax = sns.countplot(x=\"Wilayah\", data=df)"
      ],
      "metadata": {
        "colab": {
          "base_uri": "https://localhost:8080/",
          "height": 285
        },
        "id": "brzLGI-3QAIq",
        "outputId": "4ae4e923-03b1-432a-88c0-0511608077b6"
      },
      "execution_count": 11,
      "outputs": [
        {
          "output_type": "display_data",
          "data": {
            "text/plain": [
              "<Figure size 432x288 with 1 Axes>"
            ],
            "image/png": "[encoded data removed]"
          },
          "metadata": {}
        }
      ]
    },
    {
      "cell_type": "markdown",
      "source": [
        "gambar dibawah adalah bentuk Lain plot kolom wilayah (ada text jumlah)"
      ],
      "metadata": {
        "id": "FlNCH9pI9LQ_"
      }
    },
    {
      "cell_type": "code",
      "source": [
        "import matplotlib.pyplot as plt\n",
        "plt.figure(figsize=(5,5))\n",
        "\n",
        "ax = sns.countplot(x=\"Wilayah\", data=df)\n",
        "for p in ax.patches:\n",
        "  height = p.get_height()\n",
        "  ax.text(p.get_x()+p.get_width()/2.,\n",
        "  height,\n",
        "  '{:1.0f}'.format((height)),ha=\"center\")\n",
        "plt.show()"
      ],
      "metadata": {
        "colab": {
          "base_uri": "https://localhost:8080/",
          "height": 339
        },
        "id": "osoH9NYzQV5h",
        "outputId": "04fbb05e-ab44-4d4d-8ab3-2c052db4eb65"
      },
      "execution_count": 21,
      "outputs": [
        {
          "output_type": "display_data",
          "data": {
            "text/plain": [
              "<Figure size 360x360 with 1 Axes>"
            ],
            "image/png": "[encoded data removed]"
          },
          "metadata": {}
        }
      ]
    },
    {
      "cell_type": "markdown",
      "source": [
        "untuk menampilkan histogram untuk semua atribut numerik dapat menggunakan perintah dibawah ini"
      ],
      "metadata": {
        "id": "vaJ-BRbR90V4"
      }
    },
    {
      "cell_type": "code",
      "source": [
        "import matplotlib\n",
        "import matplotlib.pyplot as plt\n",
        "numerik_df = ['Jum_Kamar']\n",
        "numerik_index = numerik_df\n",
        "numerik_index\n",
        "df.hist(column=numerik_index, figsize=(10,20), layout=(5,1))\n",
        "plt.show()"
      ],
      "metadata": {
        "colab": {
          "base_uri": "https://localhost:8080/",
          "height": 242
        },
        "id": "Pg46z2htSZeA",
        "outputId": "85cdd4c4-b689-4c86-af82-554716cd20f0"
      },
      "execution_count": 22,
      "outputs": [
        {
          "output_type": "display_data",
          "data": {
            "text/plain": [
              "<Figure size 720x1440 with 5 Axes>"
            ],
            "image/png": "[encoded data removed]"
          },
          "metadata": {}
        }
      ]
    },
    {
      "cell_type": "markdown",
      "source": [
        "untuk menampilkan histogram untuk atribut numerik tertentu"
      ],
      "metadata": {
        "id": "TgqdBiD5-Okf"
      }
    },
    {
      "cell_type": "code",
      "source": [
        "import matplotlib\n",
        "import matplotlib.pyplot as plt\n",
        "numerik_df = ['KodeApt']\n",
        "numerik_index = numerik_df\n",
        "numerik_index\n",
        "df.hist(column=numerik_index, figsize=(10,20), layout=(5,1))\n",
        "plt.show()"
      ],
      "metadata": {
        "colab": {
          "base_uri": "https://localhost:8080/",
          "height": 242
        },
        "id": "AJUlQxwmQoxh",
        "outputId": "1963398a-9d83-4d44-99d1-f04cd4483489"
      },
      "execution_count": 23,
      "outputs": [
        {
          "output_type": "display_data",
          "data": {
            "text/plain": [
              "<Figure size 720x1440 with 5 Axes>"
            ],
            "image/png": "[encoded data removed]"
          },
          "metadata": {}
        }
      ]
    },
    {
      "cell_type": "markdown",
      "source": [
        "cara untuk melihat outler yang dapat terjadi misalnya kesalahan ketik bisa menggunakan perintah dibawah ini"
      ],
      "metadata": {
        "id": "mPD_Fk9o-bPO"
      }
    },
    {
      "cell_type": "code",
      "source": [
        "plt.boxplot(df.KodeApt)\n",
        "plt.plot()"
      ],
      "metadata": {
        "colab": {
          "base_uri": "https://localhost:8080/",
          "height": 285
        },
        "id": "PAO31DdTTSvg",
        "outputId": "a969fbee-a8e6-4762-98d3-076d71ee96f4"
      },
      "execution_count": 24,
      "outputs": [
        {
          "output_type": "execute_result",
          "data": {
            "text/plain": [
              "[]"
            ]
          },
          "metadata": {},
          "execution_count": 24
        },
        {
          "output_type": "display_data",
          "data": {
            "text/plain": [
              "<Figure size 432x288 with 1 Axes>"
            ],
            "image/png": "[encoded data removed]"
          },
          "metadata": {}
        }
      ]
    }
  ]
}