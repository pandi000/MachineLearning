{
  "nbformat": 4,
  "nbformat_minor": 0,
  "metadata": {
    "colab": {
      "provenance": [],
      "authorship_tag": "ABX9TyNMV4IpEK0h9MV44z4y0oXO",
      "include_colab_link": true
    },
    "kernelspec": {
      "name": "python3",
      "display_name": "Python 3"
    },
    "language_info": {
      "name": "python"
    }
  },
  "cells": [
    {
      "cell_type": "markdown",
      "metadata": {
        "id": "view-in-github",
        "colab_type": "text"
      },
      "source": [
        "<a href=\"https://colab.research.google.com/github/pandi000/MachineLearning/blob/main/Minggu3bab5.ipynb\" target=\"_parent\"><img src=\"https://colab.research.google.com/assets/colab-badge.svg\" alt=\"Open In Colab\"/></a>"
      ]
    },
    {
      "cell_type": "code",
      "execution_count": 4,
      "metadata": {
        "id": "QcVtwL4DTeEz"
      },
      "outputs": [],
      "source": [
        "from pandas import DataFrame\n",
        "import pandas as pd\n",
        "import numpy as np"
      ]
    },
    {
      "cell_type": "markdown",
      "source": [
        "baca data csv"
      ],
      "metadata": {
        "id": "0C-YGYXF-n60"
      }
    },
    {
      "cell_type": "code",
      "source": [
        "df = pd.read_csv(\"Kredit_ku.csv\")\n",
        "print(df)\n",
        "df.info()"
      ],
      "metadata": {
        "colab": {
          "base_uri": "https://localhost:8080/"
        },
        "id": "TTELJaqIgOWt",
        "outputId": "4149f47e-1777-454e-fa9e-c99558c4c428"
      },
      "execution_count": 5,
      "outputs": [
        {
          "output_type": "stream",
          "name": "stdout",
          "text": [
            "     Durasi Riwayat_kredit Tujuan  ...  Pekerjaan Jum_tanggungan creditScore\n",
            "0         6            A34    A43  ...       A173              1           1\n",
            "1        48            A32    A43  ...       A173              1           2\n",
            "2        12            A34    A46  ...       A172              2           1\n",
            "3        42            A32    A42  ...       A173              2           1\n",
            "4        24            A33    A40  ...       A173              2           2\n",
            "..      ...            ...    ...  ...        ...            ...         ...\n",
            "144      21            A34    A42  ...       A173              1           1\n",
            "145      48            A31    A49  ...       A173              1           1\n",
            "146       6            A34    A40  ...       A173              1           1\n",
            "147      12            A34    A40  ...       A173              1           1\n",
            "148      36            A34    A42  ...       A173              1           1\n",
            "\n",
            "[149 rows x 9 columns]\n",
            "<class 'pandas.core.frame.DataFrame'>\n",
            "RangeIndex: 149 entries, 0 to 148\n",
            "Data columns (total 9 columns):\n",
            " #   Column          Non-Null Count  Dtype \n",
            "---  ------          --------------  ----- \n",
            " 0   Durasi          149 non-null    int64 \n",
            " 1   Riwayat_kredit  149 non-null    object\n",
            " 2   Tujuan          149 non-null    object\n",
            " 3   Jum_kredit      149 non-null    int64 \n",
            " 4   Savings         149 non-null    object\n",
            " 5   Masa_kerja      149 non-null    object\n",
            " 6   Pekerjaan       149 non-null    object\n",
            " 7   Jum_tanggungan  149 non-null    int64 \n",
            " 8   creditScore     149 non-null    int64 \n",
            "dtypes: int64(4), object(5)\n",
            "memory usage: 10.6+ KB\n"
          ]
        }
      ]
    },
    {
      "cell_type": "markdown",
      "source": [
        "lalu kita cek missing valuenya"
      ],
      "metadata": {
        "id": "9o8lIqff-qKD"
      }
    },
    {
      "cell_type": "code",
      "source": [
        "creditScore_index = ['creditScore']\n",
        "creditScore_df = df [['creditScore']]\n",
        "creditScore_df.info()\n",
        "\n",
        "creditScore_df.isnull().values.any()\n",
        "creditScore_df.isnull().sum()"
      ],
      "metadata": {
        "colab": {
          "base_uri": "https://localhost:8080/"
        },
        "id": "a1tVU7CnV7uu",
        "outputId": "48efd474-f547-48fe-f13b-8818daa01283"
      },
      "execution_count": 6,
      "outputs": [
        {
          "output_type": "stream",
          "name": "stdout",
          "text": [
            "<class 'pandas.core.frame.DataFrame'>\n",
            "RangeIndex: 149 entries, 0 to 148\n",
            "Data columns (total 1 columns):\n",
            " #   Column       Non-Null Count  Dtype\n",
            "---  ------       --------------  -----\n",
            " 0   creditScore  149 non-null    int64\n",
            "dtypes: int64(1)\n",
            "memory usage: 1.3 KB\n"
          ]
        },
        {
          "output_type": "execute_result",
          "data": {
            "text/plain": [
              "creditScore    0\n",
              "dtype: int64"
            ]
          },
          "metadata": {},
          "execution_count": 6
        }
      ]
    },
    {
      "cell_type": "markdown",
      "source": [
        "lalu hitung komposisi data pada atribut dependent creditScore"
      ],
      "metadata": {
        "id": "EzclcNRZ-vxT"
      }
    },
    {
      "cell_type": "code",
      "source": [
        "df.creditScore.value_counts()"
      ],
      "metadata": {
        "colab": {
          "base_uri": "https://localhost:8080/"
        },
        "id": "IY7RgmukWanL",
        "outputId": "2934223e-ea6b-4447-c7b0-8c88242980ba"
      },
      "execution_count": 7,
      "outputs": [
        {
          "output_type": "execute_result",
          "data": {
            "text/plain": [
              "1    112\n",
              "2     37\n",
              "Name: creditScore, dtype: int64"
            ]
          },
          "metadata": {},
          "execution_count": 7
        }
      ]
    },
    {
      "cell_type": "markdown",
      "source": [
        "untuk mengetahui informasi dan ukuran atribut independen"
      ],
      "metadata": {
        "id": "005-cto8--CP"
      }
    },
    {
      "cell_type": "code",
      "source": [
        "df_attribute = df.drop(creditScore_df, axis = 1)\n",
        "df_attribute.shape"
      ],
      "metadata": {
        "colab": {
          "base_uri": "https://localhost:8080/"
        },
        "id": "0Yy2RTqsWgQk",
        "outputId": "7984d865-e8d0-4148-d123-3ffd2ec05553"
      },
      "execution_count": 48,
      "outputs": [
        {
          "output_type": "execute_result",
          "data": {
            "text/plain": [
              "(146, 8)"
            ]
          },
          "metadata": {},
          "execution_count": 48
        }
      ]
    },
    {
      "cell_type": "markdown",
      "source": [
        "lalu kita lihat adakah missing value, bisa dilihat kalau data dibawah sudah tidak memiliki missing value"
      ],
      "metadata": {
        "id": "DFQbY8Xe_nCR"
      }
    },
    {
      "cell_type": "code",
      "source": [
        "df_attribute.isnull().values.any()\n",
        "df_attribute.isnull().sum()"
      ],
      "metadata": {
        "colab": {
          "base_uri": "https://localhost:8080/"
        },
        "id": "TVOau2WvWuN8",
        "outputId": "da4b248d-7e16-4615-a364-b18e6af6a03e"
      },
      "execution_count": 9,
      "outputs": [
        {
          "output_type": "execute_result",
          "data": {
            "text/plain": [
              "Durasi            0\n",
              "Riwayat_kredit    0\n",
              "Tujuan            0\n",
              "Jum_kredit        0\n",
              "Savings           0\n",
              "Masa_kerja        0\n",
              "Pekerjaan         0\n",
              "Jum_tanggungan    0\n",
              "dtype: int64"
            ]
          },
          "metadata": {},
          "execution_count": 9
        }
      ]
    },
    {
      "cell_type": "markdown",
      "source": [
        "mengetahui atribut yang bertipe object kategori seperti pada gambar dibawah ada 5 data"
      ],
      "metadata": {
        "id": "xnukxQcd_0zy"
      }
    },
    {
      "cell_type": "code",
      "source": [
        "kategori_df = df.select_dtypes(include=['object'])\n",
        "kategori_df.info()"
      ],
      "metadata": {
        "colab": {
          "base_uri": "https://localhost:8080/"
        },
        "id": "1ron1UoHW5ac",
        "outputId": "5b6dfdf1-9790-46f9-b396-35cc416076c9"
      },
      "execution_count": 10,
      "outputs": [
        {
          "output_type": "stream",
          "name": "stdout",
          "text": [
            "<class 'pandas.core.frame.DataFrame'>\n",
            "RangeIndex: 149 entries, 0 to 148\n",
            "Data columns (total 5 columns):\n",
            " #   Column          Non-Null Count  Dtype \n",
            "---  ------          --------------  ----- \n",
            " 0   Riwayat_kredit  149 non-null    object\n",
            " 1   Tujuan          149 non-null    object\n",
            " 2   Savings         149 non-null    object\n",
            " 3   Masa_kerja      149 non-null    object\n",
            " 4   Pekerjaan       149 non-null    object\n",
            "dtypes: object(5)\n",
            "memory usage: 5.9+ KB\n"
          ]
        }
      ]
    },
    {
      "cell_type": "markdown",
      "source": [
        "untuk mengetahui atribut yang bertipe numerik bisa menggunakan perintah dibawah ini ada 4 data"
      ],
      "metadata": {
        "id": "V2jQTAPyAa5X"
      }
    },
    {
      "cell_type": "code",
      "source": [
        "numerik_df = df.select_dtypes(include=['int64'])\n",
        "numerik_df.info()"
      ],
      "metadata": {
        "colab": {
          "base_uri": "https://localhost:8080/"
        },
        "id": "W9vCWUOZXHWj",
        "outputId": "c4520315-9251-49cc-d2be-6138d360017c"
      },
      "execution_count": 11,
      "outputs": [
        {
          "output_type": "stream",
          "name": "stdout",
          "text": [
            "<class 'pandas.core.frame.DataFrame'>\n",
            "RangeIndex: 149 entries, 0 to 148\n",
            "Data columns (total 4 columns):\n",
            " #   Column          Non-Null Count  Dtype\n",
            "---  ------          --------------  -----\n",
            " 0   Durasi          149 non-null    int64\n",
            " 1   Jum_kredit      149 non-null    int64\n",
            " 2   Jum_tanggungan  149 non-null    int64\n",
            " 3   creditScore     149 non-null    int64\n",
            "dtypes: int64(4)\n",
            "memory usage: 4.8 KB\n"
          ]
        }
      ]
    },
    {
      "cell_type": "code",
      "source": [
        "numerik_index = numerik_df.columns\n",
        "numerik_index"
      ],
      "metadata": {
        "colab": {
          "base_uri": "https://localhost:8080/"
        },
        "id": "V1U-pZIAXVkL",
        "outputId": "2f16e548-4d1b-41c1-c782-226728c40258"
      },
      "execution_count": 12,
      "outputs": [
        {
          "output_type": "execute_result",
          "data": {
            "text/plain": [
              "Index(['Durasi', 'Jum_kredit', 'Jum_tanggungan', 'creditScore'], dtype='object')"
            ]
          },
          "metadata": {},
          "execution_count": 12
        }
      ]
    },
    {
      "cell_type": "markdown",
      "source": [
        "kemudian cara untuk menampilkan histogram bisa menggunakan perintah dibawah ini"
      ],
      "metadata": {
        "id": "Up3u_grlA3vA"
      }
    },
    {
      "cell_type": "code",
      "source": [
        "import matplotlib\n",
        "import matplotlib.pyplot as plt\n",
        "df.hist(column=numerik_index, figsize=(10,30), layout=(7,1))\n",
        "plt.show()"
      ],
      "metadata": {
        "colab": {
          "base_uri": "https://localhost:8080/",
          "height": 972
        },
        "id": "4SGjhlxjXowj",
        "outputId": "4aff1eab-aee6-4bb8-96eb-1755158e5724"
      },
      "execution_count": 13,
      "outputs": [
        {
          "output_type": "display_data",
          "data": {
            "text/plain": [
              "<Figure size 720x2160 with 7 Axes>"
            ],
            "image/png": "[encoded data removed]"
          },
          "metadata": {
            "needs_background": "light"
          }
        }
      ]
    },
    {
      "cell_type": "markdown",
      "source": [
        "lalu untuk menampilkan dalam bentuk boxplot bisa menggunakan perintah dibawah ini"
      ],
      "metadata": {
        "id": "w-9ge9fBBH17"
      }
    },
    {
      "cell_type": "code",
      "source": [
        "import seaborn as sns\n",
        "\n",
        "fig = plt.figure(figsize=(10,10))\n",
        "sns.boxplot(x=\"creditScore\", y=\"Durasi\", data=df)\n",
        "plt.show()"
      ],
      "metadata": {
        "colab": {
          "base_uri": "https://localhost:8080/",
          "height": 606
        },
        "id": "TAS4xsOOYD2N",
        "outputId": "4063e73a-00e0-43ec-dcbc-fc84c8750b2a"
      },
      "execution_count": 15,
      "outputs": [
        {
          "output_type": "display_data",
          "data": {
            "text/plain": [
              "<Figure size 720x720 with 1 Axes>"
            ],
            "image/png": "[encoded data removed]"
          },
          "metadata": {
            "needs_background": "light"
          }
        }
      ]
    },
    {
      "cell_type": "markdown",
      "source": [
        "lalu kita tampilkan durasi berdasarkan kelas creditScore nya bisa menggunakan perintah dibawah ini"
      ],
      "metadata": {
        "id": "b6RAWXV1BSvM"
      }
    },
    {
      "cell_type": "code",
      "source": [
        "df[['creditScore', 'Durasi',]].groupby(['creditScore'], as_index=False).mean().sort_values(by='Durasi', ascending=False)"
      ],
      "metadata": {
        "colab": {
          "base_uri": "https://localhost:8080/",
          "height": 112
        },
        "id": "U6nfGimLYct8",
        "outputId": "7f868eea-b1d4-45e3-bb29-437a88fef0a3"
      },
      "execution_count": 16,
      "outputs": [
        {
          "output_type": "execute_result",
          "data": {
            "text/plain": [
              "   creditScore     Durasi\n",
              "1            2  29.918919\n",
              "0            1  19.142857"
            ],
            "text/html": [
              "\n",
              "  <div id=\"df-50ce728b-05d3-44fe-9d4b-7f0f157c4e87\">\n",
              "    <div class=\"colab-df-container\">\n",
              "      <div>\n",
              "<style scoped>\n",
              "    .dataframe tbody tr th:only-of-type {\n",
              "        vertical-align: middle;\n",
              "    }\n",
              "\n",
              "    .dataframe tbody tr th {\n",
              "        vertical-align: top;\n",
              "    }\n",
              "\n",
              "    .dataframe thead th {\n",
              "        text-align: right;\n",
              "    }\n",
              "</style>\n",
              "<table border=\"1\" class=\"dataframe\">\n",
              "  <thead>\n",
              "    <tr style=\"text-align: right;\">\n",
              "      <th></th>\n",
              "      <th>creditScore</th>\n",
              "      <th>Durasi</th>\n",
              "    </tr>\n",
              "  </thead>\n",
              "  <tbody>\n",
              "    <tr>\n",
              "      <th>1</th>\n",
              "      <td>2</td>\n",
              "      <td>29.918919</td>\n",
              "    </tr>\n",
              "    <tr>\n",
              "      <th>0</th>\n",
              "      <td>1</td>\n",
              "      <td>19.142857</td>\n",
              "    </tr>\n",
              "  </tbody>\n",
              "</table>\n",
              "</div>\n",
              "      <button class=\"colab-df-convert\" onclick=\"convertToInteractive('df-50ce728b-05d3-44fe-9d4b-7f0f157c4e87')\"\n",
              "              title=\"Convert this dataframe to an interactive table.\"\n",
              "              style=\"display:none;\">\n",
              "        \n",
              "  <svg xmlns=\"http://www.w3.org/2000/svg\" height=\"24px\"viewBox=\"0 0 24 24\"\n",
              "       width=\"24px\">\n",
              "    <path d=\"M0 0h24v24H0V0z\" fill=\"none\"/>\n",
              "    <path d=\"M18.56 5.44l.94 2.06.94-2.06 2.06-.94-2.06-.94-.94-2.06-.94 2.06-2.06.94zm-11 1L8.5 8.5l.94-2.06 2.06-.94-2.06-.94L8.5 2.5l-.94 2.06-2.06.94zm10 10l.94 2.06.94-2.06 2.06-.94-2.06-.94-.94-2.06-.94 2.06-2.06.94z\"/><path d=\"M17.41 7.96l-1.37-1.37c-.4-.4-.92-.59-1.43-.59-.52 0-1.04.2-1.43.59L10.3 9.45l-7.72 7.72c-.78.78-.78 2.05 0 2.83L4 21.41c.39.39.9.59 1.41.59.51 0 1.02-.2 1.41-.59l7.78-7.78 2.81-2.81c.8-.78.8-2.07 0-2.86zM5.41 20L4 18.59l7.72-7.72 1.47 1.35L5.41 20z\"/>\n",
              "  </svg>\n",
              "      </button>\n",
              "      \n",
              "  <style>\n",
              "    .colab-df-container {\n",
              "      display:flex;\n",
              "      flex-wrap:wrap;\n",
              "      gap: 12px;\n",
              "    }\n",
              "\n",
              "    .colab-df-convert {\n",
              "      background-color: #E8F0FE;\n",
              "      border: none;\n",
              "      border-radius: 50%;\n",
              "      cursor: pointer;\n",
              "      display: none;\n",
              "      fill: #1967D2;\n",
              "      height: 32px;\n",
              "      padding: 0 0 0 0;\n",
              "      width: 32px;\n",
              "    }\n",
              "\n",
              "    .colab-df-convert:hover {\n",
              "      background-color: #E2EBFA;\n",
              "      box-shadow: 0px 1px 2px rgba(60, 64, 67, 0.3), 0px 1px 3px 1px rgba(60, 64, 67, 0.15);\n",
              "      fill: #174EA6;\n",
              "    }\n",
              "\n",
              "    [theme=dark] .colab-df-convert {\n",
              "      background-color: #3B4455;\n",
              "      fill: #D2E3FC;\n",
              "    }\n",
              "\n",
              "    [theme=dark] .colab-df-convert:hover {\n",
              "      background-color: #434B5C;\n",
              "      box-shadow: 0px 1px 3px 1px rgba(0, 0, 0, 0.15);\n",
              "      filter: drop-shadow(0px 1px 2px rgba(0, 0, 0, 0.3));\n",
              "      fill: #FFFFFF;\n",
              "    }\n",
              "  </style>\n",
              "\n",
              "      <script>\n",
              "        const buttonEl =\n",
              "          document.querySelector('#df-50ce728b-05d3-44fe-9d4b-7f0f157c4e87 button.colab-df-convert');\n",
              "        buttonEl.style.display =\n",
              "          google.colab.kernel.accessAllowed ? 'block' : 'none';\n",
              "\n",
              "        async function convertToInteractive(key) {\n",
              "          const element = document.querySelector('#df-50ce728b-05d3-44fe-9d4b-7f0f157c4e87');\n",
              "          const dataTable =\n",
              "            await google.colab.kernel.invokeFunction('convertToInteractive',\n",
              "                                                     [key], {});\n",
              "          if (!dataTable) return;\n",
              "\n",
              "          const docLinkHtml = 'Like what you see? Visit the ' +\n",
              "            '<a target=\"_blank\" href=https://colab.research.google.com/notebooks/data_table.ipynb>data table notebook</a>'\n",
              "            + ' to learn more about interactive tables.';\n",
              "          element.innerHTML = '';\n",
              "          dataTable['output_type'] = 'display_data';\n",
              "          await google.colab.output.renderOutput(dataTable, element);\n",
              "          const docLink = document.createElement('div');\n",
              "          docLink.innerHTML = docLinkHtml;\n",
              "          element.appendChild(docLink);\n",
              "        }\n",
              "      </script>\n",
              "    </div>\n",
              "  </div>\n",
              "  "
            ]
          },
          "metadata": {},
          "execution_count": 16
        }
      ]
    },
    {
      "cell_type": "markdown",
      "source": [
        "lalu kita lakukan uji hipotesis atribut numerik independen vs atribut dependen"
      ],
      "metadata": {
        "id": "lm_Cr7YEBhjw"
      }
    },
    {
      "cell_type": "code",
      "source": [
        "# Uji Hipotesis\n",
        "import random\n",
        "from scipy.stats import ttest_ind, ttest_rel\n",
        "from scipy import stats\n",
        "\n",
        "df = df[(np.abs(stats.zscore(df[\"Durasi\"])) < 3)]\n",
        "\n",
        "income_1 = df[df['creditScore']==1]['Durasi']\n",
        "income_0 = df[df['creditScore']==2]['Durasi']\n",
        "\n",
        "income_0 = income_0.values.tolist()\n",
        "income_0 = random.sample(income_0, 10)\n",
        "income_1 = income_1.values.tolist()\n",
        "income_1 = random.sample(income_1, 10)\n",
        "\n",
        "ttest,pval = ttest_ind(income_1,income_0,equal_var = False)\n",
        "print(\"ttest\",ttest)\n",
        "print('p value',pval)\n",
        "\n",
        "if pval <0.05:\n",
        "  print(\"No Ditolak\")\n",
        "else:\n",
        "  print(\"No Diterima\")\n"
      ],
      "metadata": {
        "colab": {
          "base_uri": "https://localhost:8080/"
        },
        "id": "MGuJxSBbY5Xx",
        "outputId": "c3d0d516-f3a2-4bd6-c070-ee9db3bf1263"
      },
      "execution_count": 17,
      "outputs": [
        {
          "output_type": "stream",
          "name": "stdout",
          "text": [
            "ttest -1.7365633227478472\n",
            "p value 0.09955861437944322\n",
            "No Diterima\n"
          ]
        }
      ]
    },
    {
      "cell_type": "code",
      "source": [
        "# Uji Hipotesis\n",
        "import random\n",
        "from scipy.stats import ttest_ind, ttest_rel\n",
        "from scipy import stats\n",
        "\n",
        "df = df[(np.abs(stats.zscore(df[\"Jum_kredit\"])) < 3)]\n",
        "\n",
        "income_1 = df[df['creditScore']==1]['Jum_kredit']\n",
        "income_0 = df[df['creditScore']==2]['Jum_kredit']\n",
        "\n",
        "income_0 = income_0.values.tolist()\n",
        "income_0 = random.sample(income_0, 10)\n",
        "income_1 = income_1.values.tolist()\n",
        "income_1 = random.sample(income_1, 10)\n",
        "\n",
        "ttest,pval = ttest_ind(income_1,income_0,equal_var = False)\n",
        "print(\"ttest\",ttest)\n",
        "print('p value',pval)\n",
        "\n",
        "if pval <0.05:\n",
        "  print(\"No Ditolak\")\n",
        "else:\n",
        "  print(\"No Diterima\")"
      ],
      "metadata": {
        "colab": {
          "base_uri": "https://localhost:8080/"
        },
        "id": "JCHXvEL8d9Mm",
        "outputId": "ddfd6f54-2e6f-48d5-9921-32ec0a313d89"
      },
      "execution_count": 18,
      "outputs": [
        {
          "output_type": "stream",
          "name": "stdout",
          "text": [
            "ttest -2.708133415789489\n",
            "p value 0.015192741731917222\n",
            "No Ditolak\n"
          ]
        }
      ]
    },
    {
      "cell_type": "code",
      "source": [
        "# Uji Hipotesis\n",
        "import random\n",
        "from scipy.stats import ttest_ind, ttest_rel\n",
        "from scipy import stats\n",
        "\n",
        "df = df[(np.abs(stats.zscore(df[\"Jum_tanggungan\"])) < 3)]\n",
        "\n",
        "income_1 = df[df['creditScore']==1]['Jum_tanggungan']\n",
        "income_0 = df[df['creditScore']==2]['Jum_tanggungan']\n",
        "\n",
        "income_0 = income_0.values.tolist()\n",
        "income_0 = random.sample(income_0, 10)\n",
        "income_1 = income_1.values.tolist()\n",
        "income_1 = random.sample(income_1, 10)\n",
        "\n",
        "ttest,pval = ttest_ind(income_1,income_0,equal_var = False)\n",
        "print(\"ttest\",ttest)\n",
        "print('p value',pval)\n",
        "\n",
        "if pval <0.05:\n",
        "  print(\"No Ditolak\")\n",
        "else:\n",
        "  print(\"No Diterima\")"
      ],
      "metadata": {
        "colab": {
          "base_uri": "https://localhost:8080/"
        },
        "id": "KNNxyHGjeVue",
        "outputId": "52c9d19c-12fe-4601-de94-32f8625a49c6"
      },
      "execution_count": 19,
      "outputs": [
        {
          "output_type": "stream",
          "name": "stdout",
          "text": [
            "ttest 0.0\n",
            "p value 1.0\n",
            "No Diterima\n"
          ]
        }
      ]
    },
    {
      "cell_type": "markdown",
      "source": [
        "untuk melakukan uji hipotesis atribut kategori independen vs atribut dependen"
      ],
      "metadata": {
        "id": "k8pJiHqzB8He"
      }
    },
    {
      "cell_type": "code",
      "source": [
        "def bar_chart(feature):\n",
        "  Accepted = df[df['creditScore']==1][feature].value_counts()\n",
        "  Rejected = df[df['creditScore']==2][feature].value_counts()\n",
        "  df1 = pd.DataFrame([Accepted, Rejected])\n",
        "  df1.index=['Accepted', 'Rejected']\n",
        "  df1.plot(kind='bar',stacked=True,fig=(18,6),title=feature)\n",
        "\n"
      ],
      "metadata": {
        "id": "H7EMLrddeknN"
      },
      "execution_count": 46,
      "outputs": []
    },
    {
      "cell_type": "code",
      "source": [
        "bar_chart('Riwayat_kredit')"
      ],
      "metadata": {
        "colab": {
          "base_uri": "https://localhost:8080/",
          "height": 318
        },
        "id": "gv21V7WqmK0_",
        "outputId": "bdf36077-8715-4602-f6a3-c30ba345d9d3"
      },
      "execution_count": 47,
      "outputs": [
        {
          "output_type": "display_data",
          "data": {
            "text/plain": [
              "<Figure size 432x288 with 1 Axes>"
            ],
            "image/png": "[encoded data removed]"
          },
          "metadata": {
            "needs_background": "light"
          }
        }
      ]
    },
    {
      "cell_type": "markdown",
      "source": [
        "lalu kita bisa menampilkan tabel kontingensi menggunakn perintah dibawah ini"
      ],
      "metadata": {
        "id": "ySmsoUVLCMqu"
      }
    },
    {
      "cell_type": "code",
      "source": [
        "c_t = pd.crosstab(df['Riwayat_kredit'], df['creditScore'], margins=False)\n",
        "c_t"
      ],
      "metadata": {
        "colab": {
          "base_uri": "https://localhost:8080/",
          "height": 237
        },
        "id": "Z3b0lG3Mf6db",
        "outputId": "b5fc6edd-6cab-4a9e-a36a-0fc3c0c21544"
      },
      "execution_count": 32,
      "outputs": [
        {
          "output_type": "execute_result",
          "data": {
            "text/plain": [
              "creditScore      1   2\n",
              "Riwayat_kredit        \n",
              "A30              3   2\n",
              "A31              3   1\n",
              "A32             59  17\n",
              "A33              8   4\n",
              "A34             39  10"
            ],
            "text/html": [
              "\n",
              "  <div id=\"df-7a1f9996-e9e0-42cf-8555-93cc5f927753\">\n",
              "    <div class=\"colab-df-container\">\n",
              "      <div>\n",
              "<style scoped>\n",
              "    .dataframe tbody tr th:only-of-type {\n",
              "        vertical-align: middle;\n",
              "    }\n",
              "\n",
              "    .dataframe tbody tr th {\n",
              "        vertical-align: top;\n",
              "    }\n",
              "\n",
              "    .dataframe thead th {\n",
              "        text-align: right;\n",
              "    }\n",
              "</style>\n",
              "<table border=\"1\" class=\"dataframe\">\n",
              "  <thead>\n",
              "    <tr style=\"text-align: right;\">\n",
              "      <th>creditScore</th>\n",
              "      <th>1</th>\n",
              "      <th>2</th>\n",
              "    </tr>\n",
              "    <tr>\n",
              "      <th>Riwayat_kredit</th>\n",
              "      <th></th>\n",
              "      <th></th>\n",
              "    </tr>\n",
              "  </thead>\n",
              "  <tbody>\n",
              "    <tr>\n",
              "      <th>A30</th>\n",
              "      <td>3</td>\n",
              "      <td>2</td>\n",
              "    </tr>\n",
              "    <tr>\n",
              "      <th>A31</th>\n",
              "      <td>3</td>\n",
              "      <td>1</td>\n",
              "    </tr>\n",
              "    <tr>\n",
              "      <th>A32</th>\n",
              "      <td>59</td>\n",
              "      <td>17</td>\n",
              "    </tr>\n",
              "    <tr>\n",
              "      <th>A33</th>\n",
              "      <td>8</td>\n",
              "      <td>4</td>\n",
              "    </tr>\n",
              "    <tr>\n",
              "      <th>A34</th>\n",
              "      <td>39</td>\n",
              "      <td>10</td>\n",
              "    </tr>\n",
              "  </tbody>\n",
              "</table>\n",
              "</div>\n",
              "      <button class=\"colab-df-convert\" onclick=\"convertToInteractive('df-7a1f9996-e9e0-42cf-8555-93cc5f927753')\"\n",
              "              title=\"Convert this dataframe to an interactive table.\"\n",
              "              style=\"display:none;\">\n",
              "        \n",
              "  <svg xmlns=\"http://www.w3.org/2000/svg\" height=\"24px\"viewBox=\"0 0 24 24\"\n",
              "       width=\"24px\">\n",
              "    <path d=\"M0 0h24v24H0V0z\" fill=\"none\"/>\n",
              "    <path d=\"M18.56 5.44l.94 2.06.94-2.06 2.06-.94-2.06-.94-.94-2.06-.94 2.06-2.06.94zm-11 1L8.5 8.5l.94-2.06 2.06-.94-2.06-.94L8.5 2.5l-.94 2.06-2.06.94zm10 10l.94 2.06.94-2.06 2.06-.94-2.06-.94-.94-2.06-.94 2.06-2.06.94z\"/><path d=\"M17.41 7.96l-1.37-1.37c-.4-.4-.92-.59-1.43-.59-.52 0-1.04.2-1.43.59L10.3 9.45l-7.72 7.72c-.78.78-.78 2.05 0 2.83L4 21.41c.39.39.9.59 1.41.59.51 0 1.02-.2 1.41-.59l7.78-7.78 2.81-2.81c.8-.78.8-2.07 0-2.86zM5.41 20L4 18.59l7.72-7.72 1.47 1.35L5.41 20z\"/>\n",
              "  </svg>\n",
              "      </button>\n",
              "      \n",
              "  <style>\n",
              "    .colab-df-container {\n",
              "      display:flex;\n",
              "      flex-wrap:wrap;\n",
              "      gap: 12px;\n",
              "    }\n",
              "\n",
              "    .colab-df-convert {\n",
              "      background-color: #E8F0FE;\n",
              "      border: none;\n",
              "      border-radius: 50%;\n",
              "      cursor: pointer;\n",
              "      display: none;\n",
              "      fill: #1967D2;\n",
              "      height: 32px;\n",
              "      padding: 0 0 0 0;\n",
              "      width: 32px;\n",
              "    }\n",
              "\n",
              "    .colab-df-convert:hover {\n",
              "      background-color: #E2EBFA;\n",
              "      box-shadow: 0px 1px 2px rgba(60, 64, 67, 0.3), 0px 1px 3px 1px rgba(60, 64, 67, 0.15);\n",
              "      fill: #174EA6;\n",
              "    }\n",
              "\n",
              "    [theme=dark] .colab-df-convert {\n",
              "      background-color: #3B4455;\n",
              "      fill: #D2E3FC;\n",
              "    }\n",
              "\n",
              "    [theme=dark] .colab-df-convert:hover {\n",
              "      background-color: #434B5C;\n",
              "      box-shadow: 0px 1px 3px 1px rgba(0, 0, 0, 0.15);\n",
              "      filter: drop-shadow(0px 1px 2px rgba(0, 0, 0, 0.3));\n",
              "      fill: #FFFFFF;\n",
              "    }\n",
              "  </style>\n",
              "\n",
              "      <script>\n",
              "        const buttonEl =\n",
              "          document.querySelector('#df-7a1f9996-e9e0-42cf-8555-93cc5f927753 button.colab-df-convert');\n",
              "        buttonEl.style.display =\n",
              "          google.colab.kernel.accessAllowed ? 'block' : 'none';\n",
              "\n",
              "        async function convertToInteractive(key) {\n",
              "          const element = document.querySelector('#df-7a1f9996-e9e0-42cf-8555-93cc5f927753');\n",
              "          const dataTable =\n",
              "            await google.colab.kernel.invokeFunction('convertToInteractive',\n",
              "                                                     [key], {});\n",
              "          if (!dataTable) return;\n",
              "\n",
              "          const docLinkHtml = 'Like what you see? Visit the ' +\n",
              "            '<a target=\"_blank\" href=https://colab.research.google.com/notebooks/data_table.ipynb>data table notebook</a>'\n",
              "            + ' to learn more about interactive tables.';\n",
              "          element.innerHTML = '';\n",
              "          dataTable['output_type'] = 'display_data';\n",
              "          await google.colab.output.renderOutput(dataTable, element);\n",
              "          const docLink = document.createElement('div');\n",
              "          docLink.innerHTML = docLinkHtml;\n",
              "          element.appendChild(docLink);\n",
              "        }\n",
              "      </script>\n",
              "    </div>\n",
              "  </div>\n",
              "  "
            ]
          },
          "metadata": {},
          "execution_count": 32
        }
      ]
    },
    {
      "cell_type": "code",
      "source": [
        "from scipy.stats import chi2_contingency\n",
        "from scipy.stats import chi2\n",
        "\n",
        "stat, p, dof, expected = chi2_contingency(c_t)\n",
        "print('dof=%d' % dof)\n",
        "print('p_value', p)\n",
        "print(expected)\n",
        "\n",
        "prob = 0.99\n",
        "critical = chi2.ppf(prob, dof)\n",
        "print('probabilitas=5=%.3f, critical=%.3f, stat=%3f' % (prob, critical, stat))\n",
        "if abs(stat) >= critical:\n",
        "  print('Dependent (Tolak H0)')\n",
        "else:\n",
        "  print('Independent (Terima H0)')"
      ],
      "metadata": {
        "colab": {
          "base_uri": "https://localhost:8080/"
        },
        "id": "p45Y4iyXgMl9",
        "outputId": "27d171b5-2115-4538-d817-fb872d8688ea"
      },
      "execution_count": 33,
      "outputs": [
        {
          "output_type": "stream",
          "name": "stdout",
          "text": [
            "dof=4\n",
            "p_value 0.7853458416600356\n",
            "[[ 3.83561644  1.16438356]\n",
            " [ 3.06849315  0.93150685]\n",
            " [58.30136986 17.69863014]\n",
            " [ 9.20547945  2.79452055]\n",
            " [37.5890411  11.4109589 ]]\n",
            "probabilitas=5=0.990, critical=13.277, stat=1.729535\n",
            "Independent (Terima H0)\n"
          ]
        }
      ]
    },
    {
      "cell_type": "markdown",
      "source": [
        "unutuk menampilkan Pearson correlation nya bisa menggunakan perintah dibawah ini"
      ],
      "metadata": {
        "id": "rqaZjM3CCYh-"
      }
    },
    {
      "cell_type": "code",
      "source": [
        "plt.figure(figsize=(12,10))\n",
        "cor = df.corr()\n",
        "sns.heatmap(cor, annot=True, cmap=plt.cm.Reds)\n",
        "plt.show()\n",
        "\n",
        "cor_target = abs(cor[\"creditScore\"])\n",
        "\n",
        "relevant_features = cor_target[cor_target>0.1]\n",
        "relevant_features"
      ],
      "metadata": {
        "colab": {
          "base_uri": "https://localhost:8080/",
          "height": 665
        },
        "id": "0A8iO4ewjHWa",
        "outputId": "decbaa80-dd09-41f8-ad57-05f550e5bbef"
      },
      "execution_count": 34,
      "outputs": [
        {
          "output_type": "display_data",
          "data": {
            "text/plain": [
              "<Figure size 864x720 with 2 Axes>"
            ],
            "image/png": "[encoded data removed]"
          },
          "metadata": {
            "needs_background": "light"
          }
        },
        {
          "output_type": "execute_result",
          "data": {
            "text/plain": [
              "Durasi         0.308726\n",
              "Jum_kredit     0.196635\n",
              "creditScore    1.000000\n",
              "Name: creditScore, dtype: float64"
            ]
          },
          "metadata": {},
          "execution_count": 34
        }
      ]
    }
  ]
}