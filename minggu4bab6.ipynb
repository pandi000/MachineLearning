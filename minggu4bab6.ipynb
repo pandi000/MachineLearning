{
  "nbformat": 4,
  "nbformat_minor": 0,
  "metadata": {
    "colab": {
      "provenance": [],
      "authorship_tag": "ABX9TyP83YArRh7015UGdUi5DE2f",
      "include_colab_link": true
    },
    "kernelspec": {
      "name": "python3",
      "display_name": "Python 3"
    },
    "language_info": {
      "name": "python"
    }
  },
  "cells": [
    {
      "cell_type": "markdown",
      "metadata": {
        "id": "view-in-github",
        "colab_type": "text"
      },
      "source": [
        "<a href=\"https://colab.research.google.com/github/pandi000/MachineLearning/blob/main/minggu4bab6.ipynb\" target=\"_parent\"><img src=\"https://colab.research.google.com/assets/colab-badge.svg\" alt=\"Open In Colab\"/></a>"
      ]
    },
    {
      "cell_type": "markdown",
      "source": [
        "***Apa itu Algoritma k-Nearest Neighbor?***\n",
        "Algoritma k-Nearest Neighbor adalah algoritma supervised\n",
        "learning dimana hasil dari instance yang baru diklasifikasikan berdasarkan mayoritas dari kategori k-tetangga terdekat.\n",
        "\n",
        "Tujuan dari algoritma ini adalah untuk mengklasifikasikan obyek baru berdasarkan atribut dan sample-sample dari training data.\n",
        "\n",
        "Algoritma k-Nearest Neighbor menggunakan Neighborhood Classification sebagai nilai prediksi dari nilai instance yang baru."
      ],
      "metadata": {
        "id": "iTjNX_O9NYIq"
      }
    },
    {
      "cell_type": "markdown",
      "source": [
        "Contoh penggunaan KNN:\n",
        "Misalkan Anda memiliki dataset gambar yang telah dilabeli sebagai \"kucing\" atau \"anjing\". Anda ingin membuat model machine learning yang dapat memprediksi apakah gambar yang tidak dikenal adalah gambar kucing atau anjing berdasarkan fitur-fitur gambar tersebut. Anda dapat menggunakan algoritma KNN untuk melakukan ini. Anda akan menggunakan dataset pelatihan untuk menghitung jarak antara fitur-fitur gambar yang telah dilabeli dan kemudian menggunakan k tetangga terdekat untuk memprediksi apakah gambar yang tidak dikenal adalah gambar kucing atau anjing.\n",
        "\n",
        "Contoh penggunaan K-Means:\n",
        "Misalkan Anda memiliki dataset pelanggan e-commerce yang berisi data belanjaan pelanggan, seperti jumlah uang yang dihabiskan, jumlah item yang dibeli, dan frekuensi belanja. Anda ingin mengelompokkan pelanggan ke dalam beberapa kelompok berdasarkan perilaku belanja mereka sehingga Anda dapat membuat strategi pemasaran yang lebih efektif. Anda dapat menggunakan algoritma K-Means untuk melakukan ini. Anda akan menggunakan dataset pelanggan untuk menghitung jarak antara setiap pelanggan dan pusat kelompok, dan kemudian mengelompokkan pelanggan ke dalam kelompok-kelompok berdasarkan jarak mereka dari pusat kelompok."
      ],
      "metadata": {
        "id": "06plO7afNvLR"
      }
    },
    {
      "cell_type": "code",
      "source": [
        "#memanggil dataset iris\n",
        "from sklearn.datasets import load_iris\n",
        "iris_ku =  load_iris()"
      ],
      "metadata": {
        "id": "G_fueXDJFfPe"
      },
      "execution_count": 2,
      "outputs": []
    },
    {
      "cell_type": "code",
      "source": [
        "# simpan data fitur/kolom (x) dan target (y)\n",
        "X = iris_ku.data\n",
        "Y = iris_ku.target"
      ],
      "metadata": {
        "id": "hbo20XT2GnnO"
      },
      "execution_count": 3,
      "outputs": []
    },
    {
      "cell_type": "code",
      "source": [
        "# simpan nama fitur/kolom (X) dan terget (Y)\n",
        "feature_names = iris_ku.feature_names\n",
        "target_names = iris_ku.target_names"
      ],
      "metadata": {
        "id": "PoYMzQTnHKrW"
      },
      "execution_count": 4,
      "outputs": []
    },
    {
      "cell_type": "code",
      "source": [
        "# tampil nama fitur dan terget dataset\n",
        "print(\"Feature names:\", feature_names)\n",
        "print(\"Target_names:\", target_names)"
      ],
      "metadata": {
        "colab": {
          "base_uri": "https://localhost:8080/"
        },
        "id": "05yZgZmiHcnu",
        "outputId": "5968612b-46c0-432b-8c15-00e8d9f11d80"
      },
      "execution_count": 5,
      "outputs": [
        {
          "output_type": "stream",
          "name": "stdout",
          "text": [
            "Feature names: ['sepal length (cm)', 'sepal width (cm)', 'petal length (cm)', 'petal width (cm)']\n",
            "Target_names: ['setosa' 'versicolor' 'virginica']\n"
          ]
        }
      ]
    },
    {
      "cell_type": "code",
      "source": [
        "# X dan Y adalah numpy array\n",
        "print(\"\\nType of X is:\", type(X))"
      ],
      "metadata": {
        "colab": {
          "base_uri": "https://localhost:8080/"
        },
        "id": "778CjFdjHuYV",
        "outputId": "6cf38ba9-9bed-4c2f-e6d2-fba9317be258"
      },
      "execution_count": 6,
      "outputs": [
        {
          "output_type": "stream",
          "name": "stdout",
          "text": [
            "\n",
            "Type of X is: <class 'numpy.ndarray'>\n"
          ]
        }
      ]
    },
    {
      "cell_type": "code",
      "source": [
        "# tampilkan 5 baris pertama\n",
        "print(\"nFirst 5 rows of x:\", X[:5])"
      ],
      "metadata": {
        "colab": {
          "base_uri": "https://localhost:8080/"
        },
        "id": "Aum5pn1KH6hO",
        "outputId": "b084caf4-199e-4c17-a471-23986739ca8c"
      },
      "execution_count": 7,
      "outputs": [
        {
          "output_type": "stream",
          "name": "stdout",
          "text": [
            "nFirst 5 rows of x: [[5.1 3.5 1.4 0.2]\n",
            " [4.9 3.  1.4 0.2]\n",
            " [4.7 3.2 1.3 0.2]\n",
            " [4.6 3.1 1.5 0.2]\n",
            " [5.  3.6 1.4 0.2]]\n"
          ]
        }
      ]
    },
    {
      "cell_type": "code",
      "source": [
        "# fitur (X) and target (Y)\n",
        "X = iris_ku.data\n",
        "Y = iris_ku.target"
      ],
      "metadata": {
        "id": "f5OL5mCWINDF"
      },
      "execution_count": 8,
      "outputs": []
    },
    {
      "cell_type": "code",
      "source": [
        "# splitting x dan y untuk data latih dan uji\n",
        "from sklearn.model_selection import train_test_split \n",
        "X_latih, X_tes, Y_latih, Y_tes = train_test_split(X, Y, test_size=0.4, random_state=1)"
      ],
      "metadata": {
        "id": "_GIvGH1nIX9F"
      },
      "execution_count": 9,
      "outputs": []
    },
    {
      "cell_type": "code",
      "source": [
        "# tampilkan data fitur latih dan uji\n",
        "print(X_latih.shape)\n",
        "print(X_tes.shape)"
      ],
      "metadata": {
        "colab": {
          "base_uri": "https://localhost:8080/"
        },
        "id": "2JKL-6zYI39u",
        "outputId": "2be095ea-0986-4687-84f7-c5c6439f7bf9"
      },
      "execution_count": 10,
      "outputs": [
        {
          "output_type": "stream",
          "name": "stdout",
          "text": [
            "(90, 4)\n",
            "(60, 4)\n"
          ]
        }
      ]
    },
    {
      "cell_type": "code",
      "source": [
        "# tampilkan data fitur latih dan uji\n",
        "print(Y_latih.shape)\n",
        "print(Y_tes.shape)"
      ],
      "metadata": {
        "colab": {
          "base_uri": "https://localhost:8080/"
        },
        "id": "LVVFTqaKJGLj",
        "outputId": "b8a3c215-7d1b-472b-bdb5-dd5f63a37adc"
      },
      "execution_count": 11,
      "outputs": [
        {
          "output_type": "stream",
          "name": "stdout",
          "text": [
            "(90,)\n",
            "(60,)\n"
          ]
        }
      ]
    },
    {
      "cell_type": "code",
      "source": [
        "# pelatihan pada data latih menggunakan KNN (k=3)\n",
        "from sklearn.neighbors import KNeighborsClassifier\n",
        "knn = KNeighborsClassifier(n_neighbors=3)\n",
        "knn.fit(X_latih, Y_latih)"
      ],
      "metadata": {
        "colab": {
          "base_uri": "https://localhost:8080/",
          "height": 74
        },
        "id": "vta3GPlHJMYa",
        "outputId": "15f517f0-8500-4567-8831-9205321c79df"
      },
      "execution_count": 12,
      "outputs": [
        {
          "output_type": "execute_result",
          "data": {
            "text/plain": [
              "KNeighborsClassifier(n_neighbors=3)"
            ],
            "text/html": [
              "<style>#sk-container-id-1 {color: black;background-color: white;}#sk-container-id-1 pre{padding: 0;}#sk-container-id-1 div.sk-toggleable {background-color: white;}#sk-container-id-1 label.sk-toggleable__label {cursor: pointer;display: block;width: 100%;margin-bottom: 0;padding: 0.3em;box-sizing: border-box;text-align: center;}#sk-container-id-1 label.sk-toggleable__label-arrow:before {content: \"▸\";float: left;margin-right: 0.25em;color: #696969;}#sk-container-id-1 label.sk-toggleable__label-arrow:hover:before {color: black;}#sk-container-id-1 div.sk-estimator:hover label.sk-toggleable__label-arrow:before {color: black;}#sk-container-id-1 div.sk-toggleable__content {max-height: 0;max-width: 0;overflow: hidden;text-align: left;background-color: #f0f8ff;}#sk-container-id-1 div.sk-toggleable__content pre {margin: 0.2em;color: black;border-radius: 0.25em;background-color: #f0f8ff;}#sk-container-id-1 input.sk-toggleable__control:checked~div.sk-toggleable__content {max-height: 200px;max-width: 100%;overflow: auto;}#sk-container-id-1 input.sk-toggleable__control:checked~label.sk-toggleable__label-arrow:before {content: \"▾\";}#sk-container-id-1 div.sk-estimator input.sk-toggleable__control:checked~label.sk-toggleable__label {background-color: #d4ebff;}#sk-container-id-1 div.sk-label input.sk-toggleable__control:checked~label.sk-toggleable__label {background-color: #d4ebff;}#sk-container-id-1 input.sk-hidden--visually {border: 0;clip: rect(1px 1px 1px 1px);clip: rect(1px, 1px, 1px, 1px);height: 1px;margin: -1px;overflow: hidden;padding: 0;position: absolute;width: 1px;}#sk-container-id-1 div.sk-estimator {font-family: monospace;background-color: #f0f8ff;border: 1px dotted black;border-radius: 0.25em;box-sizing: border-box;margin-bottom: 0.5em;}#sk-container-id-1 div.sk-estimator:hover {background-color: #d4ebff;}#sk-container-id-1 div.sk-parallel-item::after {content: \"\";width: 100%;border-bottom: 1px solid gray;flex-grow: 1;}#sk-container-id-1 div.sk-label:hover label.sk-toggleable__label {background-color: #d4ebff;}#sk-container-id-1 div.sk-serial::before {content: \"\";position: absolute;border-left: 1px solid gray;box-sizing: border-box;top: 0;bottom: 0;left: 50%;z-index: 0;}#sk-container-id-1 div.sk-serial {display: flex;flex-direction: column;align-items: center;background-color: white;padding-right: 0.2em;padding-left: 0.2em;position: relative;}#sk-container-id-1 div.sk-item {position: relative;z-index: 1;}#sk-container-id-1 div.sk-parallel {display: flex;align-items: stretch;justify-content: center;background-color: white;position: relative;}#sk-container-id-1 div.sk-item::before, #sk-container-id-1 div.sk-parallel-item::before {content: \"\";position: absolute;border-left: 1px solid gray;box-sizing: border-box;top: 0;bottom: 0;left: 50%;z-index: -1;}#sk-container-id-1 div.sk-parallel-item {display: flex;flex-direction: column;z-index: 1;position: relative;background-color: white;}#sk-container-id-1 div.sk-parallel-item:first-child::after {align-self: flex-end;width: 50%;}#sk-container-id-1 div.sk-parallel-item:last-child::after {align-self: flex-start;width: 50%;}#sk-container-id-1 div.sk-parallel-item:only-child::after {width: 0;}#sk-container-id-1 div.sk-dashed-wrapped {border: 1px dashed gray;margin: 0 0.4em 0.5em 0.4em;box-sizing: border-box;padding-bottom: 0.4em;background-color: white;}#sk-container-id-1 div.sk-label label {font-family: monospace;font-weight: bold;display: inline-block;line-height: 1.2em;}#sk-container-id-1 div.sk-label-container {text-align: center;}#sk-container-id-1 div.sk-container {/* jupyter's `normalize.less` sets `[hidden] { display: none; }` but bootstrap.min.css set `[hidden] { display: none !important; }` so we also need the `!important` here to be able to override the default hidden behavior on the sphinx rendered scikit-learn.org. See: https://github.com/scikit-learn/scikit-learn/issues/21755 */display: inline-block !important;position: relative;}#sk-container-id-1 div.sk-text-repr-fallback {display: none;}</style><div id=\"sk-container-id-1\" class=\"sk-top-container\"><div class=\"sk-text-repr-fallback\"><pre>KNeighborsClassifier(n_neighbors=3)</pre><b>In a Jupyter environment, please rerun this cell to show the HTML representation or trust the notebook. <br />On GitHub, the HTML representation is unable to render, please try loading this page with nbviewer.org.</b></div><div class=\"sk-container\" hidden><div class=\"sk-item\"><div class=\"sk-estimator sk-toggleable\"><input class=\"sk-toggleable__control sk-hidden--visually\" id=\"sk-estimator-id-1\" type=\"checkbox\" checked><label for=\"sk-estimator-id-1\" class=\"sk-toggleable__label sk-toggleable__label-arrow\">KNeighborsClassifier</label><div class=\"sk-toggleable__content\"><pre>KNeighborsClassifier(n_neighbors=3)</pre></div></div></div></div></div>"
            ]
          },
          "metadata": {},
          "execution_count": 12
        }
      ]
    },
    {
      "cell_type": "code",
      "source": [
        "# melakukan prediksi pada data uji\n",
        "Y_prediksi = knn.predict(X_tes)"
      ],
      "metadata": {
        "id": "QuZovvTMJmUC"
      },
      "execution_count": 13,
      "outputs": []
    },
    {
      "cell_type": "code",
      "source": [
        "# perbandingan nilai aktual (Y_tes) dengan nilai prediksi (Y_prediksi)\n",
        "from sklearn import metrics\n",
        "print(\"Akurasi model KNN :\", metrics.accuracy_score(Y_tes, Y_prediksi))"
      ],
      "metadata": {
        "colab": {
          "base_uri": "https://localhost:8080/"
        },
        "id": "3VfjwCIcJyU9",
        "outputId": "a0240fc0-5786-4fd1-b3c8-9d8f4eecc823"
      },
      "execution_count": 14,
      "outputs": [
        {
          "output_type": "stream",
          "name": "stdout",
          "text": [
            "Akurasi model KNN : 0.9833333333333333\n"
          ]
        }
      ]
    },
    {
      "cell_type": "code",
      "source": [
        "# prediksi menggunakan data sampel dibuat sendiri\n",
        "contoh = [[3, 5, 4, 2],[2, 3, 5, 4]]\n",
        "preds = knn.predict(contoh)\n",
        "pred_species = [iris_ku.target_names[p] for p in preds]\n",
        "print(\"Prediksi :\", pred_species)"
      ],
      "metadata": {
        "colab": {
          "base_uri": "https://localhost:8080/"
        },
        "id": "0kmlLBfdKOiN",
        "outputId": "2fde65e1-a153-4408-8b09-1fdd977ff020"
      },
      "execution_count": 15,
      "outputs": [
        {
          "output_type": "stream",
          "name": "stdout",
          "text": [
            "Prediksi : ['versicolor', 'virginica']\n"
          ]
        }
      ]
    },
    {
      "cell_type": "code",
      "source": [
        "# saving the model\n",
        "import joblib\n",
        "joblib.dump(knn, 'iris_knn.pkl')"
      ],
      "metadata": {
        "colab": {
          "base_uri": "https://localhost:8080/"
        },
        "id": "vLaRxLY3K0Z7",
        "outputId": "d2b57629-d067-4839-d5c4-665beb08459c"
      },
      "execution_count": 16,
      "outputs": [
        {
          "output_type": "execute_result",
          "data": {
            "text/plain": [
              "['iris_knn.pkl']"
            ]
          },
          "metadata": {},
          "execution_count": 16
        }
      ]
    },
    {
      "cell_type": "markdown",
      "source": [
        "KNN (K-Nearest Neighbors) dan K-Means adalah dua algoritma machine learning yang populer dan digunakan dalam berbagai aplikasi. Namun, mereka berbeda dalam cara mereka bekerja dan jenis masalah yang dapat mereka selesaikan.\n",
        "\n",
        "KNN (K-Nearest Neighbors)\n",
        "KNN adalah algoritma supervised learning, yang berarti bahwa ia menggunakan data yang telah dilabeli untuk membuat prediksi tentang data yang tidak dikenal. KNN bekerja dengan mencari k titik data terdekat dalam dataset pelatihan dan mengambil mayoritas label k tetangga terdekat untuk memprediksi label data yang tidak dikenal.\n",
        "Contoh penggunaan KNN adalah untuk klasifikasi gambar, di mana kita ingin mengklasifikasikan gambar berdasarkan label yang telah ditentukan. KNN juga dapat digunakan untuk regresi, di mana kita ingin memprediksi nilai numerik berdasarkan nilai-nilai fitur yang diberikan.\n",
        "\n",
        "K-Means\n",
        "K-Means adalah algoritma unsupervised learning, yang berarti bahwa ia tidak menggunakan data yang dilabeli. K-Means bekerja dengan mengelompokkan titik data ke dalam k kelompok berdasarkan jaraknya dari pusat kelompok. Jarak antara titik data dan pusat kelompok diukur dengan menggunakan metrik jarak, seperti Euclidean atau Manhattan.\n",
        "Contoh penggunaan K-Means adalah untuk pengelompokan data pelanggan, di mana kita ingin mengelompokkan pelanggan berdasarkan perilaku belanja mereka. K-Means juga dapat digunakan untuk mengurangi dimensi data, di mana kita ingin mengurangi jumlah fitur yang digunakan untuk menganalisis data.\n",
        "\n",
        "Dalam kesimpulannya, KNN dan K-Means adalah dua algoritma machine learning yang berbeda. KNN digunakan untuk masalah klasifikasi dan regresi, sementara K-Means digunakan untuk pengelompokan dan reduksi dimensi. KNN adalah supervised learning, sementara K-Means adalah unsupervised learning.\n",
        "\n",
        "\n",
        "\n",
        "\n",
        "\n"
      ],
      "metadata": {
        "id": "0HLp5a7DM0lE"
      }
    }
  ]
}